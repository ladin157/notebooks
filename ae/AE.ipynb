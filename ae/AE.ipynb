{
 "cells": [
  {
   "cell_type": "markdown",
   "metadata": {},
   "source": [
    "# Autoencoder Keras\n",
    "\n",
    "[reference](https://blog.keras.io/building-autoencoders-in-keras.html)"
   ]
  },
  {
   "cell_type": "markdown",
   "metadata": {},
   "source": [
    "# I. Import libraries"
   ]
  },
  {
   "cell_type": "code",
   "execution_count": 2,
   "metadata": {},
   "outputs": [
    {
     "name": "stderr",
     "output_type": "stream",
     "text": [
      "Using TensorFlow backend.\n"
     ]
    }
   ],
   "source": [
    "import numpy as np\n",
    "import matplotlib.pyplot as plt\n",
    "import tensorflow as tf\n",
    "\n",
    "from tensorflow import keras\n",
    "from keras.datasets import mnist\n",
    "from keras.layers import Input, Dense\n",
    "from keras.models import Model\n",
    "from keras import regularizers\n",
    "\n",
    "%matplotlib inline"
   ]
  },
  {
   "cell_type": "markdown",
   "metadata": {},
   "source": [
    "# 2. Data Preprocess"
   ]
  },
  {
   "cell_type": "markdown",
   "metadata": {},
   "source": [
    "## 2.1. Load data"
   ]
  },
  {
   "cell_type": "code",
   "execution_count": 3,
   "metadata": {},
   "outputs": [
    {
     "data": {
      "text/plain": [
       "(70000, 28, 28)"
      ]
     },
     "execution_count": 3,
     "metadata": {},
     "output_type": "execute_result"
    }
   ],
   "source": [
    "#Loading the MNIST data\n",
    "(X_train_orig, y_train_orig), (X_test, y_test) = mnist.load_data()\n",
    "all_data = np.concatenate((X_train_orig, X_test))\n",
    "all_data.shape"
   ]
  },
  {
   "cell_type": "code",
   "execution_count": 4,
   "metadata": {},
   "outputs": [],
   "source": [
    "# all_data[0]"
   ]
  },
  {
   "cell_type": "code",
   "execution_count": 5,
   "metadata": {},
   "outputs": [
    {
     "data": {
      "text/plain": [
       "<matplotlib.image.AxesImage at 0x7fb7605f9908>"
      ]
     },
     "execution_count": 5,
     "metadata": {},
     "output_type": "execute_result"
    },
    {
     "data": {
      "image/png": "[encoded data removed]",
      "text/plain": [
       "<Figure size 432x288 with 1 Axes>"
      ]
     },
     "metadata": {
      "needs_background": "light"
     },
     "output_type": "display_data"
    }
   ],
   "source": [
    "plt.imshow(X_train_orig[0])"
   ]
  },
  {
   "cell_type": "markdown",
   "metadata": {},
   "source": [
    "## 2.2. Normalize data"
   ]
  },
  {
   "cell_type": "code",
   "execution_count": 6,
   "metadata": {},
   "outputs": [
    {
     "name": "stdout",
     "output_type": "stream",
     "text": [
      "255.0\n"
     ]
    },
    {
     "data": {
      "text/plain": [
       "((53000, 28, 28), (7000, 28, 28))"
      ]
     },
     "execution_count": 6,
     "metadata": {},
     "output_type": "execute_result"
    }
   ],
   "source": [
    "# Normalizing the RGB codes by dividing it to the max RGB value.\n",
    "max_value = float(X_train_orig.max())\n",
    "print(max_value)\n",
    "\n",
    "X_train = X_train_orig.astype(np.float32) / max_value\n",
    "X_test = X_test.astype(np.float32) / max_value\n",
    "\n",
    "# Train and validation split\n",
    "X_train, X_valid = X_train[:-7000], X_train[-7000:]\n",
    "X_train.shape, X_valid.shape"
   ]
  },
  {
   "cell_type": "markdown",
   "metadata": {},
   "source": [
    "## 2.3. Reshape data"
   ]
  },
  {
   "cell_type": "code",
   "execution_count": 7,
   "metadata": {},
   "outputs": [],
   "source": [
    "# Reshape data\n",
    "X_train = X_train.reshape((len(X_train), np.prod(X_train.shape[1:])))\n",
    "X_test = X_test.reshape((len(X_test), np.prod(X_test.shape[1:])))"
   ]
  },
  {
   "cell_type": "code",
   "execution_count": 8,
   "metadata": {},
   "outputs": [
    {
     "data": {
      "text/plain": [
       "((53000, 784), (10000, 784))"
      ]
     },
     "execution_count": 8,
     "metadata": {},
     "output_type": "execute_result"
    }
   ],
   "source": [
    "X_train.shape, X_test.shape"
   ]
  },
  {
   "cell_type": "code",
   "execution_count": 9,
   "metadata": {},
   "outputs": [
    {
     "data": {
      "text/plain": [
       "<matplotlib.image.AxesImage at 0x7fb767c0d390>"
      ]
     },
     "execution_count": 9,
     "metadata": {},
     "output_type": "execute_result"
    },
    {
     "data": {
      "image/png": "[encoded data removed]",
      "text/plain": [
       "<Figure size 432x288 with 1 Axes>"
      ]
     },
     "metadata": {
      "needs_background": "light"
     },
     "output_type": "display_data"
    }
   ],
   "source": [
    "plt.imshow(X_train[0].reshape(28,28))\n",
    "# print(X_train[0])"
   ]
  },
  {
   "cell_type": "code",
   "execution_count": 10,
   "metadata": {},
   "outputs": [],
   "source": [
    "# Test flatten\n",
    "input0_flatten = keras.layers.Flatten()(X_train[0])"
   ]
  },
  {
   "cell_type": "code",
   "execution_count": 11,
   "metadata": {},
   "outputs": [
    {
     "data": {
      "text/plain": [
       "TensorShape([784, 1])"
      ]
     },
     "execution_count": 11,
     "metadata": {},
     "output_type": "execute_result"
    }
   ],
   "source": [
    "input0_flatten.shape"
   ]
  },
  {
   "cell_type": "markdown",
   "metadata": {},
   "source": [
    "# 3. Visualization"
   ]
  },
  {
   "cell_type": "markdown",
   "metadata": {},
   "source": [
    "## 3.1. Plot Images"
   ]
  },
  {
   "cell_type": "code",
   "execution_count": 12,
   "metadata": {},
   "outputs": [],
   "source": [
    "# Helper function to show images\n",
    "def plot_image(image):\n",
    "    plt.imshow(image, cmap=\"binary\")\n",
    "    plt.axis(\"off\")\n",
    "    \n",
    "\n",
    "#Displays the original images and their reconstructions    \n",
    "def show_reconstructions(model, images=X_valid, flatten=True, n_images=10):\n",
    "    x_test = images[:n_images]\n",
    "    if flatten:\n",
    "        x_test = [np.reshape(img, (784,)) for img in x_test]\n",
    "    reconstructions = x_test.copy()\n",
    "    \n",
    "    fig = plt.figure(figsize=(n_images * 1.5, 3))\n",
    "    for image_index in range(n_images):\n",
    "        plt.subplot(2, n_images, 1 + image_index)\n",
    "        if flatten:\n",
    "            img_src = x_test[image_index].reshape(28,28)\n",
    "        else:\n",
    "            img_src = x_test[image_index]\n",
    "        plot_image(img_src)\n",
    "        plt.subplot(2, n_images, 1 + n_images + image_index)\n",
    "        img_pred = reconstructions[image_index].reshape(28,28)\n",
    "        plot_image(img_pred)\n",
    "#         plot_image(reconstructions[image_index])"
   ]
  },
  {
   "cell_type": "markdown",
   "metadata": {},
   "source": [
    "## 3.2. Plot 'loss' and 'accuracy'"
   ]
  },
  {
   "cell_type": "code",
   "execution_count": 66,
   "metadata": {},
   "outputs": [],
   "source": [
    "def plot_loss(train_loss, val_loss):\n",
    "    plt.plot(loss)\n",
    "    plt.plot(val_loss)\n",
    "    plt.legend(['Training Loss', 'Validation Loss'])\n",
    "    plt.title('Traning & Validation Loss')\n",
    "    \n",
    "def plot_acc(train_acc, val_acc):\n",
    "    plt.plot(train_acc)\n",
    "    plt.plot(val_acc)\n",
    "    plt.legend(['Training Acc', 'Validation Acc'])\n",
    "    plt.title('Training & Validation Accuracy')"
   ]
  },
  {
   "cell_type": "markdown",
   "metadata": {},
   "source": [
    "# 4. Build simplest AE"
   ]
  },
  {
   "cell_type": "code",
   "execution_count": 17,
   "metadata": {},
   "outputs": [],
   "source": [
    "# this is the size of our encoded representations\n",
    "encoding_dim = 32 # 32 floats -> compression of factor 24.5, assuming the input is 784 floats\n",
    "\n",
    "# this is out placeholder\n",
    "input_img = Input(shape=(784,))\n",
    "\n",
    "# 'encoded' is the encoded representation of the input\n",
    "encoded = Dense(encoding_dim, activation='relu')(input_img)\n",
    "\n",
    "# step 2: add a Dense Layer a L1 activity regularizer\n",
    "# encoded = Dense(encoding_dim, activation='relu', activity_regularizer=regularizers.l1(10e-5))(input_img)\n",
    "\n",
    "# 'decoded' is the lossy reconstruction of the input\n",
    "decoded = Dense(784, activation='sigmoid')(encoded)\n",
    "\n",
    "# this is model maps an input to its reconstruction\n",
    "autoencoder = Model(input_img, decoded)"
   ]
  },
  {
   "cell_type": "markdown",
   "metadata": {},
   "source": [
    "**let's also create a separate encoder model**"
   ]
  },
  {
   "cell_type": "code",
   "execution_count": 18,
   "metadata": {},
   "outputs": [],
   "source": [
    "encoder = Model(input_img, encoded)"
   ]
  },
  {
   "cell_type": "markdown",
   "metadata": {},
   "source": [
    "**Let's create the decoder model**"
   ]
  },
  {
   "cell_type": "code",
   "execution_count": 19,
   "metadata": {},
   "outputs": [],
   "source": [
    "# create a placeholder for an encoded (32-dimensional) input\n",
    "encoded_input = Input(shape=(encoding_dim,))\n",
    "\n",
    "# retrieve the last layer of the autoencoder model\n",
    "decoder_layer = autoencoder.layers[-1]\n",
    "\n",
    "# create the decoder model\n",
    "decoder = Model(encoded_input, decoder_layer(encoded_input))"
   ]
  },
  {
   "cell_type": "markdown",
   "metadata": {},
   "source": [
    "**Now let's train our autoencoder to reconstruct MNIST digits.**"
   ]
  },
  {
   "cell_type": "code",
   "execution_count": 20,
   "metadata": {},
   "outputs": [
    {
     "name": "stdout",
     "output_type": "stream",
     "text": [
      "Train on 53000 samples, validate on 10000 samples\n",
      "Epoch 1/50\n",
      "53000/53000 [==============================] - 2s 29us/step - loss: 0.3704 - val_loss: 0.2728\n",
      "Epoch 2/50\n",
      "53000/53000 [==============================] - 1s 27us/step - loss: 0.2669 - val_loss: 0.2577\n",
      "Epoch 3/50\n",
      "53000/53000 [==============================] - 1s 27us/step - loss: 0.2482 - val_loss: 0.2362\n",
      "Epoch 4/50\n",
      "53000/53000 [==============================] - 1s 27us/step - loss: 0.2286 - val_loss: 0.2193\n",
      "Epoch 5/50\n",
      "53000/53000 [==============================] - 1s 27us/step - loss: 0.2142 - val_loss: 0.2069\n",
      "Epoch 6/50\n",
      "53000/53000 [==============================] - 1s 27us/step - loss: 0.2031 - val_loss: 0.1971\n",
      "Epoch 7/50\n",
      "53000/53000 [==============================] - 1s 27us/step - loss: 0.1941 - val_loss: 0.1889\n",
      "Epoch 8/50\n",
      "53000/53000 [==============================] - 1s 27us/step - loss: 0.1868 - val_loss: 0.1823\n",
      "Epoch 9/50\n",
      "53000/53000 [==============================] - 1s 27us/step - loss: 0.1808 - val_loss: 0.1771\n",
      "Epoch 10/50\n",
      "53000/53000 [==============================] - 1s 27us/step - loss: 0.1757 - val_loss: 0.1724\n",
      "Epoch 11/50\n",
      "53000/53000 [==============================] - 1s 27us/step - loss: 0.1713 - val_loss: 0.1680\n",
      "Epoch 12/50\n",
      "53000/53000 [==============================] - 1s 27us/step - loss: 0.1673 - val_loss: 0.1642\n",
      "Epoch 13/50\n",
      "53000/53000 [==============================] - 1s 27us/step - loss: 0.1636 - val_loss: 0.1605\n",
      "Epoch 14/50\n",
      "53000/53000 [==============================] - 1s 27us/step - loss: 0.1601 - val_loss: 0.1572\n",
      "Epoch 15/50\n",
      "53000/53000 [==============================] - 1s 27us/step - loss: 0.1568 - val_loss: 0.1540\n",
      "Epoch 16/50\n",
      "53000/53000 [==============================] - 1s 27us/step - loss: 0.1536 - val_loss: 0.1509\n",
      "Epoch 17/50\n",
      "53000/53000 [==============================] - 1s 27us/step - loss: 0.1506 - val_loss: 0.1477\n",
      "Epoch 18/50\n",
      "53000/53000 [==============================] - 1s 27us/step - loss: 0.1476 - val_loss: 0.1449\n",
      "Epoch 19/50\n",
      "53000/53000 [==============================] - 1s 27us/step - loss: 0.1447 - val_loss: 0.1421\n",
      "Epoch 20/50\n",
      "53000/53000 [==============================] - 1s 27us/step - loss: 0.1420 - val_loss: 0.1396\n",
      "Epoch 21/50\n",
      "53000/53000 [==============================] - 1s 27us/step - loss: 0.1394 - val_loss: 0.1368\n",
      "Epoch 22/50\n",
      "53000/53000 [==============================] - 1s 27us/step - loss: 0.1370 - val_loss: 0.1345\n",
      "Epoch 23/50\n",
      "53000/53000 [==============================] - 1s 28us/step - loss: 0.1346 - val_loss: 0.1323\n",
      "Epoch 24/50\n",
      "53000/53000 [==============================] - 1s 27us/step - loss: 0.1325 - val_loss: 0.1302\n",
      "Epoch 25/50\n",
      "53000/53000 [==============================] - 1s 27us/step - loss: 0.1305 - val_loss: 0.1282\n",
      "Epoch 26/50\n",
      "53000/53000 [==============================] - 1s 27us/step - loss: 0.1286 - val_loss: 0.1263\n",
      "Epoch 27/50\n",
      "53000/53000 [==============================] - 1s 27us/step - loss: 0.1268 - val_loss: 0.1246\n",
      "Epoch 28/50\n",
      "53000/53000 [==============================] - 1s 27us/step - loss: 0.1252 - val_loss: 0.1230\n",
      "Epoch 29/50\n",
      "53000/53000 [==============================] - 1s 27us/step - loss: 0.1237 - val_loss: 0.1215\n",
      "Epoch 30/50\n",
      "53000/53000 [==============================] - 1s 27us/step - loss: 0.1222 - val_loss: 0.1200\n",
      "Epoch 31/50\n",
      "53000/53000 [==============================] - 1s 27us/step - loss: 0.1209 - val_loss: 0.1188\n",
      "Epoch 32/50\n",
      "53000/53000 [==============================] - 1s 27us/step - loss: 0.1196 - val_loss: 0.1176\n",
      "Epoch 33/50\n",
      "53000/53000 [==============================] - 1s 27us/step - loss: 0.1184 - val_loss: 0.1164\n",
      "Epoch 34/50\n",
      "53000/53000 [==============================] - 1s 26us/step - loss: 0.1173 - val_loss: 0.1153\n",
      "Epoch 35/50\n",
      "53000/53000 [==============================] - 1s 27us/step - loss: 0.1162 - val_loss: 0.1143\n",
      "Epoch 36/50\n",
      "53000/53000 [==============================] - 1s 27us/step - loss: 0.1152 - val_loss: 0.1133\n",
      "Epoch 37/50\n",
      "53000/53000 [==============================] - 1s 27us/step - loss: 0.1142 - val_loss: 0.1123\n",
      "Epoch 38/50\n",
      "53000/53000 [==============================] - 1s 27us/step - loss: 0.1133 - val_loss: 0.1114\n",
      "Epoch 39/50\n",
      "53000/53000 [==============================] - 1s 27us/step - loss: 0.1125 - val_loss: 0.1107\n",
      "Epoch 40/50\n",
      "53000/53000 [==============================] - 1s 27us/step - loss: 0.1117 - val_loss: 0.1098\n",
      "Epoch 41/50\n",
      "53000/53000 [==============================] - 1s 27us/step - loss: 0.1109 - val_loss: 0.1091\n",
      "Epoch 42/50\n",
      "53000/53000 [==============================] - 1s 28us/step - loss: 0.1102 - val_loss: 0.1085\n",
      "Epoch 43/50\n",
      "53000/53000 [==============================] - 1s 27us/step - loss: 0.1095 - val_loss: 0.1078\n",
      "Epoch 44/50\n",
      "53000/53000 [==============================] - 1s 27us/step - loss: 0.1089 - val_loss: 0.1071\n",
      "Epoch 45/50\n",
      "53000/53000 [==============================] - 1s 27us/step - loss: 0.1083 - val_loss: 0.1067\n",
      "Epoch 46/50\n",
      "53000/53000 [==============================] - 1s 27us/step - loss: 0.1078 - val_loss: 0.1060\n",
      "Epoch 47/50\n",
      "53000/53000 [==============================] - 1s 27us/step - loss: 0.1072 - val_loss: 0.1056\n",
      "Epoch 48/50\n",
      "53000/53000 [==============================] - 1s 27us/step - loss: 0.1068 - val_loss: 0.1051\n",
      "Epoch 49/50\n",
      "53000/53000 [==============================] - 1s 27us/step - loss: 0.1063 - val_loss: 0.1046\n",
      "Epoch 50/50\n",
      "53000/53000 [==============================] - 1s 27us/step - loss: 0.1059 - val_loss: 0.1044\n"
     ]
    },
    {
     "data": {
      "text/plain": [
       "<keras.callbacks.callbacks.History at 0x7fb6e0045128>"
      ]
     },
     "execution_count": 20,
     "metadata": {},
     "output_type": "execute_result"
    }
   ],
   "source": [
    "autoencoder.compile(optimizer='adadelta', loss='binary_crossentropy')\n",
    "autoencoder.fit(X_train, X_train, epochs=50, batch_size=256, shuffle=True, validation_data=(X_test, X_test))"
   ]
  },
  {
   "cell_type": "markdown",
   "metadata": {},
   "source": [
    "Predict encoded and decoded images using encoder and decoder"
   ]
  },
  {
   "cell_type": "code",
   "execution_count": 35,
   "metadata": {},
   "outputs": [
    {
     "data": {
      "image/png": "[encoded data removed]",
      "text/plain": [
       "<Figure size 432x288 with 1 Axes>"
      ]
     },
     "metadata": {
      "needs_background": "light"
     },
     "output_type": "display_data"
    }
   ],
   "source": [
    "# len(autoencoder.history.history['loss']), len(autoencoder.history.history['val_loss'])\n",
    "train_loss = autoencoder.history.history['loss']\n",
    "val_loss = autoencoder.history.history['val_loss']\n",
    "plot_loss(train_loss, val_loss)"
   ]
  },
  {
   "cell_type": "code",
   "execution_count": 36,
   "metadata": {},
   "outputs": [],
   "source": [
    "encoded_imgs = encoder.predict(X_test)\n",
    "decoded_imgs = decoder.predict(encoded_imgs)\n",
    "decoded_imgs_new = autoencoder.predict(X_test)"
   ]
  },
  {
   "cell_type": "code",
   "execution_count": 37,
   "metadata": {},
   "outputs": [],
   "source": [
    "img = decoded_imgs[0] - decoded_imgs_new[0]\n",
    "# plt.imshow(encoded_imgs[0].reshape(28,28))\n",
    "# print(encoded_imgs[0].reshape(28,28))"
   ]
  },
  {
   "cell_type": "code",
   "execution_count": 38,
   "metadata": {},
   "outputs": [
    {
     "data": {
      "text/plain": [
       "(784,)"
      ]
     },
     "execution_count": 38,
     "metadata": {},
     "output_type": "execute_result"
    }
   ],
   "source": [
    "img.shape"
   ]
  },
  {
   "cell_type": "code",
   "execution_count": 39,
   "metadata": {},
   "outputs": [],
   "source": [
    "image0_decoded = decoded_imgs[0] # *max_value"
   ]
  },
  {
   "cell_type": "code",
   "execution_count": 40,
   "metadata": {},
   "outputs": [],
   "source": [
    "image0_decoded = np.round(image0_decoded)"
   ]
  },
  {
   "cell_type": "code",
   "execution_count": 41,
   "metadata": {},
   "outputs": [],
   "source": [
    "# image0_decoded"
   ]
  },
  {
   "cell_type": "code",
   "execution_count": 42,
   "metadata": {},
   "outputs": [
    {
     "data": {
      "text/plain": [
       "<matplotlib.image.AxesImage at 0x7fb5f44f3208>"
      ]
     },
     "execution_count": 42,
     "metadata": {},
     "output_type": "execute_result"
    },
    {
     "data": {
      "image/png": "[encoded data removed]",
      "text/plain": [
       "<Figure size 432x288 with 1 Axes>"
      ]
     },
     "metadata": {
      "needs_background": "light"
     },
     "output_type": "display_data"
    }
   ],
   "source": [
    "plt.imshow(image0_decoded.reshape(28,28))"
   ]
  },
  {
   "cell_type": "code",
   "execution_count": 43,
   "metadata": {},
   "outputs": [
    {
     "data": {
      "image/png": "[encoded data removed]",
      "text/plain": [
       "<Figure size 1080x216 with 20 Axes>"
      ]
     },
     "metadata": {
      "needs_background": "light"
     },
     "output_type": "display_data"
    }
   ],
   "source": [
    "# plt.imshow((image0_decoded*255.0).reshape(28,28))\n",
    "show_reconstructions(model=autoencoder, flatten=True, n_images=10)"
   ]
  },
  {
   "cell_type": "code",
   "execution_count": 44,
   "metadata": {},
   "outputs": [
    {
     "data": {
      "text/plain": [
       "((784, 32), (32,))"
      ]
     },
     "execution_count": 44,
     "metadata": {},
     "output_type": "execute_result"
    }
   ],
   "source": [
    "encoder.get_weights()[0].shape, encoder.get_weights()[1].shape"
   ]
  },
  {
   "cell_type": "code",
   "execution_count": 45,
   "metadata": {},
   "outputs": [
    {
     "data": {
      "text/plain": [
       "<tf.Tensor 'dense_3/Relu:0' shape=(None, 32) dtype=float32>"
      ]
     },
     "execution_count": 45,
     "metadata": {},
     "output_type": "execute_result"
    }
   ],
   "source": [
    "encoded"
   ]
  },
  {
   "cell_type": "code",
   "execution_count": 46,
   "metadata": {},
   "outputs": [
    {
     "data": {
      "text/plain": [
       "<keras.engine.training.Model at 0x7fb6e062c630>"
      ]
     },
     "execution_count": 46,
     "metadata": {},
     "output_type": "execute_result"
    }
   ],
   "source": [
    "encoder"
   ]
  },
  {
   "cell_type": "code",
   "execution_count": 47,
   "metadata": {},
   "outputs": [
    {
     "data": {
      "text/plain": [
       "<tf.Tensor 'dense_4/Sigmoid:0' shape=(None, 784) dtype=float32>"
      ]
     },
     "execution_count": 47,
     "metadata": {},
     "output_type": "execute_result"
    }
   ],
   "source": [
    "decoded"
   ]
  },
  {
   "cell_type": "code",
   "execution_count": 48,
   "metadata": {},
   "outputs": [
    {
     "data": {
      "text/plain": [
       "<keras.engine.training.Model at 0x7fb728039e48>"
      ]
     },
     "execution_count": 48,
     "metadata": {},
     "output_type": "execute_result"
    }
   ],
   "source": [
    "decoder"
   ]
  },
  {
   "cell_type": "code",
   "execution_count": 49,
   "metadata": {},
   "outputs": [
    {
     "data": {
      "text/plain": [
       "<keras.engine.training.Model at 0x7fb718308630>"
      ]
     },
     "execution_count": 49,
     "metadata": {},
     "output_type": "execute_result"
    }
   ],
   "source": [
    "autoencoder"
   ]
  },
  {
   "cell_type": "code",
   "execution_count": 50,
   "metadata": {},
   "outputs": [
    {
     "data": {
      "text/plain": [
       "((784, 32), (32,), (32, 784), (784,))"
      ]
     },
     "execution_count": 50,
     "metadata": {},
     "output_type": "execute_result"
    }
   ],
   "source": [
    "autoencoder.get_weights()[0].shape, autoencoder.get_weights()[1].shape, autoencoder.get_weights()[2].shape, autoencoder.get_weights()[3].shape"
   ]
  },
  {
   "cell_type": "code",
   "execution_count": 51,
   "metadata": {},
   "outputs": [
    {
     "name": "stdout",
     "output_type": "stream",
     "text": [
      "Model: \"model_4\"\n",
      "_________________________________________________________________\n",
      "Layer (type)                 Output Shape              Param #   \n",
      "=================================================================\n",
      "input_3 (InputLayer)         (None, 784)               0         \n",
      "_________________________________________________________________\n",
      "dense_3 (Dense)              (None, 32)                25120     \n",
      "_________________________________________________________________\n",
      "dense_4 (Dense)              (None, 784)               25872     \n",
      "=================================================================\n",
      "Total params: 50,992\n",
      "Trainable params: 50,992\n",
      "Non-trainable params: 0\n",
      "_________________________________________________________________\n",
      "Model: \"model_5\"\n",
      "_________________________________________________________________\n",
      "Layer (type)                 Output Shape              Param #   \n",
      "=================================================================\n",
      "input_3 (InputLayer)         (None, 784)               0         \n",
      "_________________________________________________________________\n",
      "dense_3 (Dense)              (None, 32)                25120     \n",
      "=================================================================\n",
      "Total params: 25,120\n",
      "Trainable params: 25,120\n",
      "Non-trainable params: 0\n",
      "_________________________________________________________________\n",
      "Model: \"model_6\"\n",
      "_________________________________________________________________\n",
      "Layer (type)                 Output Shape              Param #   \n",
      "=================================================================\n",
      "input_4 (InputLayer)         (None, 32)                0         \n",
      "_________________________________________________________________\n",
      "dense_4 (Dense)              (None, 784)               25872     \n",
      "=================================================================\n",
      "Total params: 25,872\n",
      "Trainable params: 25,872\n",
      "Non-trainable params: 0\n",
      "_________________________________________________________________\n"
     ]
    },
    {
     "data": {
      "text/plain": [
       "(None, None, None)"
      ]
     },
     "execution_count": 51,
     "metadata": {},
     "output_type": "execute_result"
    }
   ],
   "source": [
    "autoencoder.summary(), encoder.summary(), decoder.summary()"
   ]
  },
  {
   "cell_type": "markdown",
   "metadata": {},
   "source": [
    "# 5. Stacked AE"
   ]
  },
  {
   "cell_type": "markdown",
   "metadata": {},
   "source": [
    "## 5.1. Sample SAE"
   ]
  },
  {
   "cell_type": "code",
   "execution_count": 52,
   "metadata": {},
   "outputs": [
    {
     "name": "stdout",
     "output_type": "stream",
     "text": [
      "Model: \"model\"\n",
      "_________________________________________________________________\n",
      "Layer (type)                 Output Shape              Param #   \n",
      "=================================================================\n",
      "input_5 (InputLayer)         [(None, 784)]             0         \n",
      "_________________________________________________________________\n",
      "flatten_1 (Flatten)          (None, 784)               0         \n",
      "_________________________________________________________________\n",
      "dense (Dense)                (None, 392)               307720    \n",
      "_________________________________________________________________\n",
      "dense_1 (Dense)              (None, 196)               77028     \n",
      "_________________________________________________________________\n",
      "dense_2 (Dense)              (None, 392)               77224     \n",
      "_________________________________________________________________\n",
      "dense_3 (Dense)              (None, 784)               308112    \n",
      "_________________________________________________________________\n",
      "reshape (Reshape)            (None, 784)               0         \n",
      "=================================================================\n",
      "Total params: 770,084\n",
      "Trainable params: 770,084\n",
      "Non-trainable params: 0\n",
      "_________________________________________________________________\n"
     ]
    }
   ],
   "source": [
    "#Stacked Autoencoder with functional model\n",
    "#encoder\n",
    "inputs = keras.Input(shape=(784,))\n",
    "lr_flatten = keras.layers.Flatten()(inputs)\n",
    "lr1 = keras.layers.Dense(392, activation=\"selu\")(lr_flatten)\n",
    "lr2 = keras.layers.Dense(196, activation=\"selu\")(lr1)#decoder\n",
    "lr3 = keras.layers.Dense(392, activation=\"selu\")(lr2)\n",
    "lr4 = keras.layers.Dense(28 * 28, activation=\"sigmoid\")(lr3)\n",
    "outputs = keras.layers.Reshape([784,])(lr4)\n",
    "stacked_ae = keras.models.Model(inputs,outputs)\n",
    "stacked_ae.compile(loss=\"binary_crossentropy\",optimizer=keras.optimizers.SGD(lr=1.5))\n",
    "stacked_ae.summary()"
   ]
  },
  {
   "cell_type": "code",
   "execution_count": 53,
   "metadata": {},
   "outputs": [
    {
     "name": "stdout",
     "output_type": "stream",
     "text": [
      "Train on 53000 samples, validate on 10000 samples\n",
      "Epoch 1/50\n",
      "53000/53000 [==============================] - 2s 42us/sample - loss: 0.2345 - val_loss: 0.1868\n",
      "Epoch 2/50\n",
      "53000/53000 [==============================] - 2s 35us/sample - loss: 0.1583 - val_loss: 0.1516\n",
      "Epoch 3/50\n",
      "53000/53000 [==============================] - 2s 35us/sample - loss: 0.1335 - val_loss: 0.1442\n",
      "Epoch 4/50\n",
      "53000/53000 [==============================] - 2s 35us/sample - loss: 0.1200 - val_loss: 0.1174\n",
      "Epoch 5/50\n",
      "53000/53000 [==============================] - 2s 35us/sample - loss: 0.1107 - val_loss: 0.1177\n",
      "Epoch 6/50\n",
      "53000/53000 [==============================] - 2s 35us/sample - loss: 0.1042 - val_loss: 0.1069\n",
      "Epoch 7/50\n",
      "53000/53000 [==============================] - 2s 35us/sample - loss: 0.0997 - val_loss: 0.1040\n",
      "Epoch 8/50\n",
      "53000/53000 [==============================] - 2s 35us/sample - loss: 0.0961 - val_loss: 0.1010\n",
      "Epoch 9/50\n",
      "53000/53000 [==============================] - 2s 35us/sample - loss: 0.0935 - val_loss: 0.0963\n",
      "Epoch 10/50\n",
      "53000/53000 [==============================] - 2s 35us/sample - loss: 0.0912 - val_loss: 0.0940\n",
      "Epoch 11/50\n",
      "53000/53000 [==============================] - 2s 35us/sample - loss: 0.0893 - val_loss: 0.0967\n",
      "Epoch 12/50\n",
      "53000/53000 [==============================] - 2s 35us/sample - loss: 0.0877 - val_loss: 0.0915\n",
      "Epoch 13/50\n",
      "53000/53000 [==============================] - 2s 35us/sample - loss: 0.0864 - val_loss: 0.0896\n",
      "Epoch 14/50\n",
      "53000/53000 [==============================] - 2s 35us/sample - loss: 0.0852 - val_loss: 0.0878\n",
      "Epoch 15/50\n",
      "53000/53000 [==============================] - 2s 35us/sample - loss: 0.0841 - val_loss: 0.0882\n",
      "Epoch 16/50\n",
      "53000/53000 [==============================] - 2s 35us/sample - loss: 0.0833 - val_loss: 0.0861\n",
      "Epoch 17/50\n",
      "53000/53000 [==============================] - 2s 35us/sample - loss: 0.0824 - val_loss: 0.0852\n",
      "Epoch 18/50\n",
      "53000/53000 [==============================] - 2s 35us/sample - loss: 0.0817 - val_loss: 0.0880\n",
      "Epoch 19/50\n",
      "53000/53000 [==============================] - 2s 35us/sample - loss: 0.0810 - val_loss: 0.0851\n",
      "Epoch 20/50\n",
      "53000/53000 [==============================] - 2s 35us/sample - loss: 0.0803 - val_loss: 0.0816\n",
      "Epoch 21/50\n",
      "53000/53000 [==============================] - 2s 35us/sample - loss: 0.0799 - val_loss: 0.0839\n",
      "Epoch 22/50\n",
      "53000/53000 [==============================] - 2s 35us/sample - loss: 0.0794 - val_loss: 0.0825\n",
      "Epoch 23/50\n",
      "53000/53000 [==============================] - 2s 35us/sample - loss: 0.0789 - val_loss: 0.0827\n",
      "Epoch 24/50\n",
      "53000/53000 [==============================] - 2s 35us/sample - loss: 0.0784 - val_loss: 0.0810\n",
      "Epoch 25/50\n",
      "53000/53000 [==============================] - 2s 35us/sample - loss: 0.0780 - val_loss: 0.0809\n",
      "Epoch 26/50\n",
      "53000/53000 [==============================] - 2s 35us/sample - loss: 0.0777 - val_loss: 0.0804\n",
      "Epoch 27/50\n",
      "53000/53000 [==============================] - 2s 35us/sample - loss: 0.0773 - val_loss: 0.0823\n",
      "Epoch 28/50\n",
      "53000/53000 [==============================] - 2s 35us/sample - loss: 0.0769 - val_loss: 0.0794\n",
      "Epoch 29/50\n",
      "53000/53000 [==============================] - 2s 35us/sample - loss: 0.0766 - val_loss: 0.0789\n",
      "Epoch 30/50\n",
      "53000/53000 [==============================] - 2s 35us/sample - loss: 0.0763 - val_loss: 0.0773\n",
      "Epoch 31/50\n",
      "53000/53000 [==============================] - 2s 35us/sample - loss: 0.0760 - val_loss: 0.0787\n",
      "Epoch 32/50\n",
      "53000/53000 [==============================] - 2s 35us/sample - loss: 0.0758 - val_loss: 0.0779\n",
      "Epoch 33/50\n",
      "53000/53000 [==============================] - 2s 35us/sample - loss: 0.0755 - val_loss: 0.0781\n",
      "Epoch 34/50\n",
      "53000/53000 [==============================] - 2s 35us/sample - loss: 0.0752 - val_loss: 0.0766\n",
      "Epoch 35/50\n",
      "53000/53000 [==============================] - 2s 35us/sample - loss: 0.0751 - val_loss: 0.0757\n",
      "Epoch 36/50\n",
      "53000/53000 [==============================] - 2s 35us/sample - loss: 0.0748 - val_loss: 0.0777\n",
      "Epoch 37/50\n",
      "53000/53000 [==============================] - 2s 35us/sample - loss: 0.0746 - val_loss: 0.0766\n",
      "Epoch 38/50\n",
      "53000/53000 [==============================] - 2s 35us/sample - loss: 0.0743 - val_loss: 0.0770\n",
      "Epoch 39/50\n",
      "53000/53000 [==============================] - 2s 35us/sample - loss: 0.0742 - val_loss: 0.0759\n",
      "Epoch 40/50\n",
      "53000/53000 [==============================] - 2s 35us/sample - loss: 0.0739 - val_loss: 0.0786\n",
      "Epoch 41/50\n",
      "53000/53000 [==============================] - 2s 35us/sample - loss: 0.0738 - val_loss: 0.0763\n",
      "Epoch 42/50\n",
      "53000/53000 [==============================] - 2s 35us/sample - loss: 0.0737 - val_loss: 0.0780\n",
      "Epoch 43/50\n",
      "53000/53000 [==============================] - 2s 35us/sample - loss: 0.0735 - val_loss: 0.0761\n",
      "Epoch 44/50\n",
      "53000/53000 [==============================] - 2s 35us/sample - loss: 0.0733 - val_loss: 0.0754\n",
      "Epoch 45/50\n",
      "53000/53000 [==============================] - 2s 35us/sample - loss: 0.0732 - val_loss: 0.0755\n",
      "Epoch 46/50\n",
      "53000/53000 [==============================] - 2s 35us/sample - loss: 0.0730 - val_loss: 0.0763\n",
      "Epoch 47/50\n",
      "53000/53000 [==============================] - 2s 35us/sample - loss: 0.0729 - val_loss: 0.0751\n",
      "Epoch 48/50\n",
      "53000/53000 [==============================] - 2s 35us/sample - loss: 0.0727 - val_loss: 0.0760\n",
      "Epoch 49/50\n",
      "53000/53000 [==============================] - 2s 35us/sample - loss: 0.0726 - val_loss: 0.0761\n",
      "Epoch 50/50\n",
      "53000/53000 [==============================] - 2s 35us/sample - loss: 0.0725 - val_loss: 0.0748\n"
     ]
    },
    {
     "data": {
      "text/plain": [
       "<tensorflow.python.keras.callbacks.History at 0x7fb5cc386438>"
      ]
     },
     "execution_count": 53,
     "metadata": {},
     "output_type": "execute_result"
    }
   ],
   "source": [
    "stacked_ae.fit(X_train, X_train, epochs=50, batch_size=256, shuffle=True, validation_data=(X_test, X_test))"
   ]
  },
  {
   "cell_type": "code",
   "execution_count": 54,
   "metadata": {},
   "outputs": [
    {
     "data": {
      "image/png": "[encoded data removed]",
      "text/plain": [
       "<Figure size 432x288 with 1 Axes>"
      ]
     },
     "metadata": {
      "needs_background": "light"
     },
     "output_type": "display_data"
    }
   ],
   "source": [
    "# Plot loss\n",
    "stacked_train_loss = stacked_ae.history.history['loss']\n",
    "stacked_val_loss = stacked_ae.history.history['val_loss']\n",
    "plot_loss(stacked_train_loss, stacked_val_loss)"
   ]
  },
  {
   "cell_type": "code",
   "execution_count": 55,
   "metadata": {},
   "outputs": [],
   "source": [
    "stacked_decoded_imgs = stacked_ae.predict(X_test)"
   ]
  },
  {
   "cell_type": "code",
   "execution_count": 56,
   "metadata": {},
   "outputs": [
    {
     "data": {
      "text/plain": [
       "<matplotlib.image.AxesImage at 0x7fb5cc48bc88>"
      ]
     },
     "execution_count": 56,
     "metadata": {},
     "output_type": "execute_result"
    },
    {
     "data": {
      "image/png": "[encoded data removed]",
      "text/plain": [
       "<Figure size 432x288 with 1 Axes>"
      ]
     },
     "metadata": {
      "needs_background": "light"
     },
     "output_type": "display_data"
    }
   ],
   "source": [
    "plt.imshow(stacked_decoded_imgs[0].reshape(28,28))"
   ]
  },
  {
   "cell_type": "code",
   "execution_count": 57,
   "metadata": {},
   "outputs": [
    {
     "data": {
      "image/png": "[encoded data removed]",
      "text/plain": [
       "<Figure size 1080x216 with 20 Axes>"
      ]
     },
     "metadata": {
      "needs_background": "light"
     },
     "output_type": "display_data"
    }
   ],
   "source": [
    "show_reconstructions(model=stacked_ae, flatten=True, n_images=10)"
   ]
  },
  {
   "cell_type": "markdown",
   "metadata": {},
   "source": [
    "## 5.2. Edited SAE"
   ]
  },
  {
   "cell_type": "code",
   "execution_count": 58,
   "metadata": {},
   "outputs": [],
   "source": [
    "# #Stacked Autoencoder with functional model\n",
    "# #encoder\n",
    "# img_dim = 784\n",
    "# encoded_dim_l1 = 392\n",
    "# encoded_dim_l2 = 196\n",
    "# encoed_dim_l3 = 32\n",
    "\n",
    "\n",
    "# # define input\n",
    "\n",
    "\n",
    "# inputs = keras.Input(shape=(784,))\n",
    "\n",
    "# lr_flatten = keras.layers.Flatten()(inputs)\n",
    "\n",
    "# # first hidden lay\n",
    "\n",
    "# lr1_encoded = keras.layers.Dense(392, activation=\"selu\")(lr_flatten)\n",
    "# lr1_hidden = keras.layers.\n",
    "# lr2 = keras.layers.Dense(196, activation=\"selu\")(lr1)#decoder\n",
    "# lr3 = keras.layers.Dense(392, activation=\"selu\")(lr2)\n",
    "# lr4 = keras.layers.Dense(28 * 28, activation=\"sigmoid\")(lr3)\n",
    "# outputs = keras.layers.Reshape([784,])(lr4)\n",
    "# stacked_ae = keras.models.Model(inputs,outputs)\n",
    "# stacked_ae.compile(loss=\"binary_crossentropy\",optimizer=keras.optimizers.SGD(lr=1.5))\n",
    "# stacked_ae.summary()"
   ]
  },
  {
   "cell_type": "markdown",
   "metadata": {},
   "source": [
    "# 6. Deep AE"
   ]
  },
  {
   "cell_type": "code",
   "execution_count": 59,
   "metadata": {},
   "outputs": [],
   "source": [
    "input_img = Input(shape=(784,))\n",
    "encoded = Dense(128, activation='relu')(input_img)\n",
    "encoded = Dense(64, activation='relu')(encoded)\n",
    "encoded = Dense(32, activation='relu')(encoded)\n",
    "\n",
    "decoded = Dense(64, activation='relu')(encoded)\n",
    "decoded = Dense(128, activation='relu')(decoded)\n",
    "decoded = Dense(784, activation='sigmoid')(decoded)"
   ]
  },
  {
   "cell_type": "code",
   "execution_count": null,
   "metadata": {},
   "outputs": [],
   "source": [
    "# # define encoder and decoder\n",
    "# encoder = Model(imput_img, encoded)\n",
    "# decoder = Model(encoded, decoded)"
   ]
  },
  {
   "cell_type": "code",
   "execution_count": null,
   "metadata": {},
   "outputs": [],
   "source": [
    "# # create a placeholder for an encoded (32-dimensional) input\n",
    "# encoded_input = Input(shape=(encoding_dim,))\n",
    "\n",
    "# # retrieve the last layer of the autoencoder model\n",
    "# decoder_layer = autoencoder.layers[-1]\n",
    "\n",
    "# # create the decoder model\n",
    "# decoder = Model(encoded_input, decoder_layer(encoded_input))"
   ]
  },
  {
   "cell_type": "code",
   "execution_count": 61,
   "metadata": {},
   "outputs": [
    {
     "name": "stdout",
     "output_type": "stream",
     "text": [
      "Train on 53000 samples, validate on 10000 samples\n",
      "Epoch 1/100\n",
      "53000/53000 [==============================] - 3s 53us/step - loss: 0.3475 - val_loss: 0.2725\n",
      "Epoch 2/100\n",
      "53000/53000 [==============================] - 3s 49us/step - loss: 0.2585 - val_loss: 0.2602\n",
      "Epoch 3/100\n",
      "53000/53000 [==============================] - 3s 49us/step - loss: 0.2380 - val_loss: 0.2363\n",
      "Epoch 4/100\n",
      "53000/53000 [==============================] - 3s 49us/step - loss: 0.2236 - val_loss: 0.2188\n",
      "Epoch 5/100\n",
      "53000/53000 [==============================] - 3s 49us/step - loss: 0.2103 - val_loss: 0.2071\n",
      "Epoch 6/100\n",
      "53000/53000 [==============================] - 3s 49us/step - loss: 0.1942 - val_loss: 0.1932\n",
      "Epoch 7/100\n",
      "53000/53000 [==============================] - 3s 49us/step - loss: 0.1859 - val_loss: 0.1840\n",
      "Epoch 8/100\n",
      "53000/53000 [==============================] - 3s 49us/step - loss: 0.1801 - val_loss: 0.1800\n",
      "Epoch 9/100\n",
      "53000/53000 [==============================] - 3s 48us/step - loss: 0.1746 - val_loss: 0.1737\n",
      "Epoch 10/100\n",
      "53000/53000 [==============================] - 3s 49us/step - loss: 0.1703 - val_loss: 0.1698\n",
      "Epoch 11/100\n",
      "53000/53000 [==============================] - 3s 49us/step - loss: 0.1660 - val_loss: 0.1672\n",
      "Epoch 12/100\n",
      "53000/53000 [==============================] - 3s 48us/step - loss: 0.1618 - val_loss: 0.1632\n",
      "Epoch 13/100\n",
      "53000/53000 [==============================] - 3s 49us/step - loss: 0.1580 - val_loss: 0.1570\n",
      "Epoch 14/100\n",
      "53000/53000 [==============================] - 3s 49us/step - loss: 0.1545 - val_loss: 0.1599\n",
      "Epoch 15/100\n",
      "53000/53000 [==============================] - 3s 49us/step - loss: 0.1519 - val_loss: 0.1609\n",
      "Epoch 16/100\n",
      "53000/53000 [==============================] - 3s 48us/step - loss: 0.1491 - val_loss: 0.1568\n",
      "Epoch 17/100\n",
      "53000/53000 [==============================] - 3s 49us/step - loss: 0.1466 - val_loss: 0.1489\n",
      "Epoch 18/100\n",
      "53000/53000 [==============================] - 3s 48us/step - loss: 0.1447 - val_loss: 0.1451\n",
      "Epoch 19/100\n",
      "53000/53000 [==============================] - 3s 49us/step - loss: 0.1428 - val_loss: 0.1465\n",
      "Epoch 20/100\n",
      "53000/53000 [==============================] - 3s 49us/step - loss: 0.1410 - val_loss: 0.1440\n",
      "Epoch 21/100\n",
      "53000/53000 [==============================] - 3s 49us/step - loss: 0.1396 - val_loss: 0.1379\n",
      "Epoch 22/100\n",
      "53000/53000 [==============================] - 3s 49us/step - loss: 0.1377 - val_loss: 0.1387\n",
      "Epoch 23/100\n",
      "53000/53000 [==============================] - 3s 49us/step - loss: 0.1363 - val_loss: 0.1364\n",
      "Epoch 24/100\n",
      "53000/53000 [==============================] - 3s 48us/step - loss: 0.1348 - val_loss: 0.1381\n",
      "Epoch 25/100\n",
      "53000/53000 [==============================] - 3s 48us/step - loss: 0.1330 - val_loss: 0.1335\n",
      "Epoch 26/100\n",
      "53000/53000 [==============================] - 3s 49us/step - loss: 0.1319 - val_loss: 0.1328\n",
      "Epoch 27/100\n",
      "53000/53000 [==============================] - 3s 48us/step - loss: 0.1304 - val_loss: 0.1345\n",
      "Epoch 28/100\n",
      "53000/53000 [==============================] - 3s 49us/step - loss: 0.1289 - val_loss: 0.1289\n",
      "Epoch 29/100\n",
      "53000/53000 [==============================] - 3s 49us/step - loss: 0.1279 - val_loss: 0.1254\n",
      "Epoch 30/100\n",
      "53000/53000 [==============================] - 3s 49us/step - loss: 0.1267 - val_loss: 0.1338\n",
      "Epoch 31/100\n",
      "53000/53000 [==============================] - 3s 49us/step - loss: 0.1255 - val_loss: 0.1265\n",
      "Epoch 32/100\n",
      "53000/53000 [==============================] - 3s 49us/step - loss: 0.1246 - val_loss: 0.1339\n",
      "Epoch 33/100\n",
      "53000/53000 [==============================] - 3s 48us/step - loss: 0.1238 - val_loss: 0.1250\n",
      "Epoch 34/100\n",
      "53000/53000 [==============================] - 3s 49us/step - loss: 0.1228 - val_loss: 0.1264\n",
      "Epoch 35/100\n",
      "53000/53000 [==============================] - 3s 49us/step - loss: 0.1222 - val_loss: 0.1267\n",
      "Epoch 36/100\n",
      "53000/53000 [==============================] - 3s 49us/step - loss: 0.1213 - val_loss: 0.1253\n",
      "Epoch 37/100\n",
      "53000/53000 [==============================] - 3s 49us/step - loss: 0.1207 - val_loss: 0.1237\n",
      "Epoch 38/100\n",
      "53000/53000 [==============================] - 3s 49us/step - loss: 0.1202 - val_loss: 0.1228\n",
      "Epoch 39/100\n",
      "53000/53000 [==============================] - 3s 49us/step - loss: 0.1195 - val_loss: 0.1215\n",
      "Epoch 40/100\n",
      "53000/53000 [==============================] - 3s 48us/step - loss: 0.1188 - val_loss: 0.1230\n",
      "Epoch 41/100\n",
      "53000/53000 [==============================] - 3s 48us/step - loss: 0.1183 - val_loss: 0.1208\n",
      "Epoch 42/100\n",
      "53000/53000 [==============================] - 3s 49us/step - loss: 0.1176 - val_loss: 0.1219\n",
      "Epoch 43/100\n",
      "53000/53000 [==============================] - 3s 48us/step - loss: 0.1171 - val_loss: 0.1236\n",
      "Epoch 44/100\n",
      "53000/53000 [==============================] - 3s 49us/step - loss: 0.1165 - val_loss: 0.1202\n",
      "Epoch 45/100\n",
      "53000/53000 [==============================] - 3s 49us/step - loss: 0.1159 - val_loss: 0.1185\n",
      "Epoch 46/100\n",
      "53000/53000 [==============================] - 3s 49us/step - loss: 0.1154 - val_loss: 0.1174\n",
      "Epoch 47/100\n",
      "53000/53000 [==============================] - 3s 49us/step - loss: 0.1148 - val_loss: 0.1155\n",
      "Epoch 48/100\n",
      "53000/53000 [==============================] - 3s 49us/step - loss: 0.1142 - val_loss: 0.1184\n",
      "Epoch 49/100\n",
      "53000/53000 [==============================] - 3s 48us/step - loss: 0.1139 - val_loss: 0.1175\n",
      "Epoch 50/100\n",
      "53000/53000 [==============================] - 3s 49us/step - loss: 0.1132 - val_loss: 0.1137\n",
      "Epoch 51/100\n",
      "53000/53000 [==============================] - 3s 49us/step - loss: 0.1129 - val_loss: 0.1170\n",
      "Epoch 52/100\n",
      "53000/53000 [==============================] - 3s 48us/step - loss: 0.1124 - val_loss: 0.1145\n",
      "Epoch 53/100\n",
      "53000/53000 [==============================] - 3s 48us/step - loss: 0.1118 - val_loss: 0.1139\n",
      "Epoch 54/100\n",
      "53000/53000 [==============================] - 3s 49us/step - loss: 0.1114 - val_loss: 0.1160\n",
      "Epoch 55/100\n",
      "53000/53000 [==============================] - 3s 48us/step - loss: 0.1111 - val_loss: 0.1151\n",
      "Epoch 56/100\n",
      "53000/53000 [==============================] - 3s 48us/step - loss: 0.1105 - val_loss: 0.1136\n",
      "Epoch 57/100\n",
      "53000/53000 [==============================] - 3s 49us/step - loss: 0.1103 - val_loss: 0.1153\n",
      "Epoch 58/100\n",
      "53000/53000 [==============================] - 3s 49us/step - loss: 0.1099 - val_loss: 0.1134\n",
      "Epoch 59/100\n",
      "53000/53000 [==============================] - 3s 49us/step - loss: 0.1096 - val_loss: 0.1121\n",
      "Epoch 60/100\n",
      "53000/53000 [==============================] - 3s 48us/step - loss: 0.1093 - val_loss: 0.1138\n",
      "Epoch 61/100\n",
      "53000/53000 [==============================] - 3s 48us/step - loss: 0.1090 - val_loss: 0.1081\n",
      "Epoch 62/100\n",
      "53000/53000 [==============================] - 3s 49us/step - loss: 0.1087 - val_loss: 0.1165\n",
      "Epoch 63/100\n",
      "53000/53000 [==============================] - 3s 49us/step - loss: 0.1084 - val_loss: 0.1110\n",
      "Epoch 64/100\n",
      "53000/53000 [==============================] - 3s 49us/step - loss: 0.1080 - val_loss: 0.1149\n",
      "Epoch 65/100\n",
      "53000/53000 [==============================] - 3s 48us/step - loss: 0.1078 - val_loss: 0.1112\n",
      "Epoch 66/100\n",
      "53000/53000 [==============================] - 3s 48us/step - loss: 0.1076 - val_loss: 0.1085\n",
      "Epoch 67/100\n",
      "53000/53000 [==============================] - 3s 49us/step - loss: 0.1072 - val_loss: 0.1091\n",
      "Epoch 68/100\n",
      "53000/53000 [==============================] - 3s 49us/step - loss: 0.1070 - val_loss: 0.1111\n",
      "Epoch 69/100\n",
      "53000/53000 [==============================] - 3s 48us/step - loss: 0.1068 - val_loss: 0.1104\n",
      "Epoch 70/100\n",
      "53000/53000 [==============================] - 3s 49us/step - loss: 0.1065 - val_loss: 0.1078\n",
      "Epoch 71/100\n",
      "53000/53000 [==============================] - 3s 48us/step - loss: 0.1063 - val_loss: 0.1118\n",
      "Epoch 72/100\n",
      "53000/53000 [==============================] - 3s 49us/step - loss: 0.1059 - val_loss: 0.1055\n",
      "Epoch 73/100\n",
      "53000/53000 [==============================] - 3s 49us/step - loss: 0.1058 - val_loss: 0.1081\n",
      "Epoch 74/100\n",
      "53000/53000 [==============================] - 3s 49us/step - loss: 0.1055 - val_loss: 0.1119\n",
      "Epoch 75/100\n",
      "53000/53000 [==============================] - 3s 49us/step - loss: 0.1052 - val_loss: 0.1078\n",
      "Epoch 76/100\n",
      "53000/53000 [==============================] - 3s 48us/step - loss: 0.1051 - val_loss: 0.1107\n",
      "Epoch 77/100\n"
     ]
    },
    {
     "name": "stdout",
     "output_type": "stream",
     "text": [
      "53000/53000 [==============================] - 3s 48us/step - loss: 0.1048 - val_loss: 0.1088\n",
      "Epoch 78/100\n",
      "53000/53000 [==============================] - 3s 49us/step - loss: 0.1045 - val_loss: 0.1073\n",
      "Epoch 79/100\n",
      "53000/53000 [==============================] - 3s 49us/step - loss: 0.1045 - val_loss: 0.1047\n",
      "Epoch 80/100\n",
      "53000/53000 [==============================] - 3s 48us/step - loss: 0.1041 - val_loss: 0.1086\n",
      "Epoch 81/100\n",
      "53000/53000 [==============================] - 3s 49us/step - loss: 0.1039 - val_loss: 0.1078\n",
      "Epoch 82/100\n",
      "53000/53000 [==============================] - 3s 49us/step - loss: 0.1037 - val_loss: 0.1062\n",
      "Epoch 83/100\n",
      "53000/53000 [==============================] - 3s 49us/step - loss: 0.1036 - val_loss: 0.1067\n",
      "Epoch 84/100\n",
      "53000/53000 [==============================] - 3s 49us/step - loss: 0.1034 - val_loss: 0.1059\n",
      "Epoch 85/100\n",
      "53000/53000 [==============================] - 3s 49us/step - loss: 0.1032 - val_loss: 0.1083\n",
      "Epoch 86/100\n",
      "53000/53000 [==============================] - 3s 48us/step - loss: 0.1030 - val_loss: 0.1044\n",
      "Epoch 87/100\n",
      "53000/53000 [==============================] - 3s 49us/step - loss: 0.1028 - val_loss: 0.1051\n",
      "Epoch 88/100\n",
      "53000/53000 [==============================] - 3s 48us/step - loss: 0.1026 - val_loss: 0.1084\n",
      "Epoch 89/100\n",
      "53000/53000 [==============================] - 3s 49us/step - loss: 0.1024 - val_loss: 0.1057\n",
      "Epoch 90/100\n",
      "53000/53000 [==============================] - 3s 48us/step - loss: 0.1022 - val_loss: 0.1093\n",
      "Epoch 91/100\n",
      "53000/53000 [==============================] - 3s 49us/step - loss: 0.1020 - val_loss: 0.1081\n",
      "Epoch 92/100\n",
      "53000/53000 [==============================] - 3s 49us/step - loss: 0.1019 - val_loss: 0.1053\n",
      "Epoch 93/100\n",
      "53000/53000 [==============================] - 3s 49us/step - loss: 0.1017 - val_loss: 0.1049\n",
      "Epoch 94/100\n",
      "53000/53000 [==============================] - 3s 49us/step - loss: 0.1016 - val_loss: 0.1071\n",
      "Epoch 95/100\n",
      "53000/53000 [==============================] - 3s 49us/step - loss: 0.1014 - val_loss: 0.1052\n",
      "Epoch 96/100\n",
      "53000/53000 [==============================] - 3s 48us/step - loss: 0.1013 - val_loss: 0.1083\n",
      "Epoch 97/100\n",
      "53000/53000 [==============================] - 3s 48us/step - loss: 0.1012 - val_loss: 0.1097\n",
      "Epoch 98/100\n",
      "53000/53000 [==============================] - 3s 49us/step - loss: 0.1010 - val_loss: 0.1047\n",
      "Epoch 99/100\n",
      "53000/53000 [==============================] - 3s 49us/step - loss: 0.1008 - val_loss: 0.1054\n",
      "Epoch 100/100\n",
      "53000/53000 [==============================] - 3s 49us/step - loss: 0.1008 - val_loss: 0.1064\n"
     ]
    },
    {
     "data": {
      "text/plain": [
       "<keras.callbacks.callbacks.History at 0x7fb5cc6a8f28>"
      ]
     },
     "execution_count": 61,
     "metadata": {},
     "output_type": "execute_result"
    }
   ],
   "source": [
    "autoencoder = Model(input_img, decoded)\n",
    "autoencoder.compile(optimizer='adadelta', loss='binary_crossentropy')\n",
    "\n",
    "autoencoder.fit(X_train, X_train,\n",
    "                epochs=100,\n",
    "                batch_size=256,\n",
    "                shuffle=True,\n",
    "                validation_data=(X_test, X_test))"
   ]
  },
  {
   "cell_type": "code",
   "execution_count": 62,
   "metadata": {},
   "outputs": [
    {
     "data": {
      "image/png": "[encoded data removed]",
      "text/plain": [
       "<Figure size 432x288 with 1 Axes>"
      ]
     },
     "metadata": {
      "needs_background": "light"
     },
     "output_type": "display_data"
    }
   ],
   "source": [
    "train_loss = autoencoder.history.history['loss']\n",
    "val_loss = autoencoder.history.history['val_loss']\n",
    "plot_loss(train_loss, val_loss)"
   ]
  },
  {
   "cell_type": "code",
   "execution_count": 64,
   "metadata": {},
   "outputs": [
    {
     "data": {
      "image/png": "[encoded data removed]",
      "text/plain": [
       "<Figure size 1080x216 with 20 Axes>"
      ]
     },
     "metadata": {
      "needs_background": "light"
     },
     "output_type": "display_data"
    }
   ],
   "source": [
    "# show reconstructions\n",
    "show_reconstructions(model=autoencoder, flatten=True, n_images=10)"
   ]
  },
  {
   "cell_type": "markdown",
   "metadata": {},
   "source": [
    "# 7. Convolutional AE"
   ]
  },
  {
   "cell_type": "markdown",
   "metadata": {},
   "source": [
    "Xem lại một chút về CNN, sau đó quay lại code CVAE"
   ]
  },
  {
   "cell_type": "code",
   "execution_count": null,
   "metadata": {},
   "outputs": [],
   "source": []
  }
 ],
 "metadata": {
  "kernelspec": {
   "display_name": "Python 3",
   "language": "python",
   "name": "python3"
  },
  "language_info": {
   "codemirror_mode": {
    "name": "ipython",
    "version": 3
   },
   "file_extension": ".py",
   "mimetype": "text/x-python",
   "name": "python",
   "nbconvert_exporter": "python",
   "pygments_lexer": "ipython3",
   "version": "3.7.3"
  }
 },
 "nbformat": 4,
 "nbformat_minor": 2
}
