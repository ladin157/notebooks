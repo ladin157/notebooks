{
 "cells": [
  {
   "cell_type": "code",
   "execution_count": 1,
   "metadata": {},
   "outputs": [
    {
     "name": "stderr",
     "output_type": "stream",
     "text": [
      "Using TensorFlow backend.\n"
     ]
    }
   ],
   "source": [
    "# 1. THem thu vien\n",
    "import numpy as np\n",
    "import matplotlib.pyplot as plt\n",
    "from keras.models import Sequential\n",
    "from keras.layers import Dense, Dropout, Activation, Flatten, Conv2D, MaxPooling2D\n",
    "from keras.utils import np_utils\n",
    "from keras.datasets import mnist"
   ]
  },
  {
   "cell_type": "code",
   "execution_count": 2,
   "metadata": {},
   "outputs": [],
   "source": [
    "# 2. load du lieu MNIST\n",
    "(X_train, y_train), (X_test, y_test) = mnist.load_data()"
   ]
  },
  {
   "cell_type": "code",
   "execution_count": 3,
   "metadata": {},
   "outputs": [
    {
     "data": {
      "text/plain": [
       "(array([0, 1, 2, 3, 4, 5, 6, 7, 8, 9], dtype=uint8),\n",
       " array([0, 1, 2, 3, 4, 5, 6, 7, 8, 9], dtype=uint8))"
      ]
     },
     "execution_count": 3,
     "metadata": {},
     "output_type": "execute_result"
    }
   ],
   "source": [
    "np.unique(y_train), np.unique(y_test)"
   ]
  },
  {
   "cell_type": "code",
   "execution_count": 4,
   "metadata": {},
   "outputs": [
    {
     "data": {
      "text/plain": [
       "((60000, 28, 28), (60000,), (10000, 28, 28), (10000,))"
      ]
     },
     "execution_count": 4,
     "metadata": {},
     "output_type": "execute_result"
    }
   ],
   "source": [
    "X_train.shape, y_train.shape, X_test.shape, y_test.shape"
   ]
  },
  {
   "cell_type": "code",
   "execution_count": 5,
   "metadata": {},
   "outputs": [],
   "source": [
    "# lay ra validation\n",
    "X_val, y_val = X_train[-10000:,:], y_train[-10000:]\n",
    "X_train, y_train = X_train[:-10000,:], y_train[:-10000]"
   ]
  },
  {
   "cell_type": "code",
   "execution_count": 6,
   "metadata": {},
   "outputs": [
    {
     "data": {
      "text/plain": [
       "((10000, 28, 28), (10000,), (50000, 28, 28), (50000,))"
      ]
     },
     "execution_count": 6,
     "metadata": {},
     "output_type": "execute_result"
    }
   ],
   "source": [
    "X_val.shape, y_val.shape, X_train.shape, y_train.shape"
   ]
  },
  {
   "cell_type": "code",
   "execution_count": 7,
   "metadata": {},
   "outputs": [],
   "source": [
    "# 3. Reshape lai du lieu cho dung kich thuoc cua mo hinh\n",
    "X_train = X_train.reshape(X_train.shape[0], 28,28,1) # moi buc anh co kich thuoc la w*h*d = 28*28*1\n",
    "X_val = X_val.reshape(X_val.shape[0], 28,28,1)\n",
    "X_test = X_test.reshape(X_test.shape[0], 28,28,1)"
   ]
  },
  {
   "cell_type": "code",
   "execution_count": 8,
   "metadata": {},
   "outputs": [
    {
     "data": {
      "text/plain": [
       "((50000, 28, 28, 1), (10000, 28, 28, 1), (10000, 28, 28, 1))"
      ]
     },
     "execution_count": 8,
     "metadata": {},
     "output_type": "execute_result"
    }
   ],
   "source": [
    "X_train.shape, X_val.shape, X_test.shape "
   ]
  },
  {
   "cell_type": "code",
   "execution_count": 9,
   "metadata": {},
   "outputs": [],
   "source": [
    "# 4. One hot encoding label\n",
    "Y_train = np_utils.to_categorical(y_train, 10) # one-hot encoding\n",
    "Y_val = np_utils.to_categorical(y_val, 10) # one-hot encoding\n",
    "Y_test = np_utils.to_categorical(y_test, 10) # one-hot encoding"
   ]
  },
  {
   "cell_type": "code",
   "execution_count": 10,
   "metadata": {},
   "outputs": [
    {
     "data": {
      "text/plain": [
       "(5, array([0., 0., 0., 0., 0., 1., 0., 0., 0., 0.], dtype=float32))"
      ]
     },
     "execution_count": 10,
     "metadata": {},
     "output_type": "execute_result"
    }
   ],
   "source": [
    "y_train[0], Y_train[0]"
   ]
  },
  {
   "cell_type": "code",
   "execution_count": 12,
   "metadata": {},
   "outputs": [],
   "source": [
    "# 5. Dinh nghia model\n",
    "model = Sequential()\n",
    "\n",
    "activation = 'sigmoid'\n",
    "\n",
    "# them Convolutional layer voi 32 kernel, kich thuoc kernel 3*3\n",
    "# dung ham sigmoid lam activation va chi ro input_shape cho layer dau tien\n",
    "model.add(Conv2D(32, (3,3), activation=activation, input_shape=(28,28,1)))\n",
    "\n",
    "# them convolution layer\n",
    "model.add(Conv2D(32, (3,3), activation=activation))\n",
    "\n",
    "# them max pooling layer\n",
    "model.add(MaxPooling2D(pool_size=(2,2)))\n",
    "\n",
    "# Flatten layer chuyen tu tensor sang vector\n",
    "model.add(Flatten())\n",
    "\n",
    "# them fully connected layer voi 128 nodes va dung sigmoid\n",
    "model.add(Dense(128, activation=activation))\n",
    "\n",
    "# output layer voi 10 node va dung softmax function de chuyen sang xac suat\n",
    "model.add(Dense(10, activation='softmax'))"
   ]
  },
  {
   "cell_type": "code",
   "execution_count": 14,
   "metadata": {},
   "outputs": [],
   "source": [
    "# 6. Compile model, chi ro ham loss_function duoc su dung, phuong thuc dung de toi uu ham loss function\n",
    "model.compile(loss='categorical_crossentropy',\n",
    "             optimizer='adam',\n",
    "             metrics=['mse','acc'])"
   ]
  },
  {
   "cell_type": "code",
   "execution_count": 26,
   "metadata": {},
   "outputs": [
    {
     "name": "stdout",
     "output_type": "stream",
     "text": [
      "Train on 50000 samples, validate on 10000 samples\n",
      "Epoch 1/5\n",
      "50000/50000 [==============================] - 32s 635us/step - loss: 1.0042e-08 - mse: 1.3344e-15 - acc: 1.0000 - val_loss: 0.0665 - val_mse: 0.0015 - val_acc: 0.9912\n",
      "Epoch 2/5\n",
      "50000/50000 [==============================] - 32s 633us/step - loss: 9.3937e-09 - mse: 1.1704e-15 - acc: 1.0000 - val_loss: 0.0660 - val_mse: 0.0015 - val_acc: 0.9909\n",
      "Epoch 3/5\n",
      "50000/50000 [==============================] - 32s 634us/step - loss: 8.9025e-09 - mse: 1.1174e-15 - acc: 1.0000 - val_loss: 0.0658 - val_mse: 0.0015 - val_acc: 0.9912\n",
      "Epoch 4/5\n",
      "50000/50000 [==============================] - 32s 633us/step - loss: 8.3923e-09 - mse: 9.7494e-16 - acc: 1.0000 - val_loss: 0.0657 - val_mse: 0.0015 - val_acc: 0.9910\n",
      "Epoch 5/5\n",
      "50000/50000 [==============================] - 32s 635us/step - loss: 7.9560e-09 - mse: 8.8240e-16 - acc: 1.0000 - val_loss: 0.0668 - val_mse: 0.0016 - val_acc: 0.9910\n"
     ]
    }
   ],
   "source": [
    "# 7. Thuc hien training mpdel voi data\n",
    "H = model.fit(X_train, Y_train, validation_data=(X_val, Y_val),\n",
    "             batch_size=32, epochs=5, verbose=True)"
   ]
  },
  {
   "cell_type": "code",
   "execution_count": 27,
   "metadata": {},
   "outputs": [
    {
     "data": {
      "text/plain": [
       "<matplotlib.legend.Legend at 0x7f100821c198>"
      ]
     },
     "execution_count": 27,
     "metadata": {},
     "output_type": "execute_result"
    },
    {
     "data": {
      "image/png": "[encoded data removed]",
      "text/plain": [
       "<Figure size 432x288 with 1 Axes>"
      ]
     },
     "metadata": {
      "needs_background": "light"
     },
     "output_type": "display_data"
    }
   ],
   "source": [
    "# 8. Ve do thi loss, accuracy cua training set va validation set\n",
    "fig = plt.figure()\n",
    "num_of_epoch = 5\n",
    "plt.plot(np.arange(0, num_of_epoch), H.history['loss'], label='training loss')\n",
    "plt.plot(np.arange(0, num_of_epoch), H.history['val_loss'], label='validation loss')\n",
    "plt.plot(np.arange(0, num_of_epoch), H.history['acc'], label='accuracy')\n",
    "plt.plot(np.arange(0, num_of_epoch), H.history['val_acc'], label='validation accuracy')\n",
    "plt.title('Accuracy and Loss')\n",
    "plt.xlabel('Epoch')\n",
    "plt.ylabel('Loss|Accuracy')\n",
    "plt.legend()"
   ]
  },
  {
   "cell_type": "code",
   "execution_count": 28,
   "metadata": {},
   "outputs": [],
   "source": [
    "# 9. Danh gia model voi du lieu test set\n",
    "score = model.evaluate(X_test, Y_test, verbose=0)"
   ]
  },
  {
   "cell_type": "code",
   "execution_count": 29,
   "metadata": {},
   "outputs": [
    {
     "data": {
      "text/plain": [
       "[0.04987774253801303, 0.0014316090382635593, 0.9916999936103821]"
      ]
     },
     "execution_count": 29,
     "metadata": {},
     "output_type": "execute_result"
    }
   ],
   "source": [
    "score"
   ]
  },
  {
   "cell_type": "code",
   "execution_count": 30,
   "metadata": {},
   "outputs": [
    {
     "data": {
      "text/plain": [
       "<matplotlib.image.AxesImage at 0x7f100812bc88>"
      ]
     },
     "execution_count": 30,
     "metadata": {},
     "output_type": "execute_result"
    },
    {
     "data": {
      "image/png": "[encoded data removed]",
      "text/plain": [
       "<Figure size 432x288 with 1 Axes>"
      ]
     },
     "metadata": {
      "needs_background": "light"
     },
     "output_type": "display_data"
    }
   ],
   "source": [
    "# 10. Du doan anh\n",
    "plt.imshow(X_test[0].reshape(28,28), cmap='gray')"
   ]
  },
  {
   "cell_type": "code",
   "execution_count": 31,
   "metadata": {},
   "outputs": [],
   "source": [
    "y_predict = model.predict(X_test[0].reshape(1,28,28,1))"
   ]
  },
  {
   "cell_type": "code",
   "execution_count": 32,
   "metadata": {},
   "outputs": [
    {
     "data": {
      "text/plain": [
       "array([[1.6638952e-18, 2.0298182e-16, 4.5349112e-17, 2.0473291e-14,\n",
       "        8.2545161e-21, 1.4927973e-19, 8.9501697e-24, 1.0000000e+00,\n",
       "        5.2143543e-18, 5.1882509e-15]], dtype=float32)"
      ]
     },
     "execution_count": 32,
     "metadata": {},
     "output_type": "execute_result"
    }
   ],
   "source": [
    "y_predict"
   ]
  },
  {
   "cell_type": "code",
   "execution_count": 33,
   "metadata": {},
   "outputs": [
    {
     "name": "stdout",
     "output_type": "stream",
     "text": [
      "Gia tri du doan:  7\n"
     ]
    }
   ],
   "source": [
    "print(\"Gia tri du doan: \", np.argmax(y_predict))"
   ]
  },
  {
   "cell_type": "code",
   "execution_count": null,
   "metadata": {},
   "outputs": [],
   "source": []
  }
 ],
 "metadata": {
  "kernelspec": {
   "display_name": "Python 3",
   "language": "python",
   "name": "python3"
  },
  "language_info": {
   "codemirror_mode": {
    "name": "ipython",
    "version": 3
   },
   "file_extension": ".py",
   "mimetype": "text/x-python",
   "name": "python",
   "nbconvert_exporter": "python",
   "pygments_lexer": "ipython3",
   "version": "3.7.3"
  }
 },
 "nbformat": 4,
 "nbformat_minor": 2
}
