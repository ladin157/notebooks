{
 "cells": [
  {
   "cell_type": "code",
   "execution_count": 1,
   "metadata": {},
   "outputs": [
    {
     "name": "stderr",
     "output_type": "stream",
     "text": [
      "Using TensorFlow backend.\n"
     ]
    }
   ],
   "source": [
    "# 1. THem thu vien\n",
    "import numpy as np\n",
    "import matplotlib.pyplot as plt\n",
    "from keras.models import Sequential\n",
    "from keras.layers import Dense, Dropout, Activation, Flatten, Conv2D, MaxPooling2D\n",
    "from keras.utils import np_utils\n",
    "from keras.datasets import mnist"
   ]
  },
  {
   "cell_type": "code",
   "execution_count": 2,
   "metadata": {},
   "outputs": [],
   "source": [
    "# 2. load du lieu MNIST\n",
    "(X_train, y_train), (X_test, y_test) = mnist.load_data()"
   ]
  },
  {
   "cell_type": "code",
   "execution_count": 3,
   "metadata": {},
   "outputs": [
    {
     "data": {
      "text/plain": [
       "(array([0, 1, 2, 3, 4, 5, 6, 7, 8, 9], dtype=uint8),\n",
       " array([0, 1, 2, 3, 4, 5, 6, 7, 8, 9], dtype=uint8))"
      ]
     },
     "execution_count": 3,
     "metadata": {},
     "output_type": "execute_result"
    }
   ],
   "source": [
    "np.unique(y_train), np.unique(y_test)"
   ]
  },
  {
   "cell_type": "code",
   "execution_count": 4,
   "metadata": {},
   "outputs": [
    {
     "data": {
      "text/plain": [
       "((60000, 28, 28), (60000,), (10000, 28, 28), (10000,))"
      ]
     },
     "execution_count": 4,
     "metadata": {},
     "output_type": "execute_result"
    }
   ],
   "source": [
    "X_train.shape, y_train.shape, X_test.shape, y_test.shape"
   ]
  },
  {
   "cell_type": "code",
   "execution_count": 5,
   "metadata": {},
   "outputs": [],
   "source": [
    "# lay ra validation\n",
    "X_val, y_val = X_train[-10000:,:], y_train[-10000:]\n",
    "X_train, y_train = X_train[:-10000,:], y_train[:-10000]"
   ]
  },
  {
   "cell_type": "code",
   "execution_count": 6,
   "metadata": {},
   "outputs": [
    {
     "data": {
      "text/plain": [
       "((10000, 28, 28), (10000,), (50000, 28, 28), (50000,))"
      ]
     },
     "execution_count": 6,
     "metadata": {},
     "output_type": "execute_result"
    }
   ],
   "source": [
    "X_val.shape, y_val.shape, X_train.shape, y_train.shape"
   ]
  },
  {
   "cell_type": "code",
   "execution_count": 7,
   "metadata": {},
   "outputs": [],
   "source": [
    "# 3. Reshape lai du lieu cho dung kich thuoc cua mo hinh\n",
    "X_train = X_train.reshape(X_train.shape[0], 28,28,1) # moi buc anh co kich thuoc la w*h*d = 28*28*1\n",
    "X_val = X_val.reshape(X_val.shape[0], 28,28,1)\n",
    "X_test = X_test.reshape(X_test.shape[0], 28,28,1)"
   ]
  },
  {
   "cell_type": "code",
   "execution_count": 8,
   "metadata": {},
   "outputs": [
    {
     "data": {
      "text/plain": [
       "((50000, 28, 28, 1), (10000, 28, 28, 1), (10000, 28, 28, 1))"
      ]
     },
     "execution_count": 8,
     "metadata": {},
     "output_type": "execute_result"
    }
   ],
   "source": [
    "X_train.shape, X_val.shape, X_test.shape "
   ]
  },
  {
   "cell_type": "code",
   "execution_count": 9,
   "metadata": {},
   "outputs": [],
   "source": [
    "# 4. One hot encoding label\n",
    "Y_train = np_utils.to_categorical(y_train, 10) # one-hot encoding\n",
    "Y_val = np_utils.to_categorical(y_val, 10) # one-hot encoding\n",
    "Y_test = np_utils.to_categorical(y_test, 10) # one-hot encoding"
   ]
  },
  {
   "cell_type": "code",
   "execution_count": 10,
   "metadata": {},
   "outputs": [
    {
     "data": {
      "text/plain": [
       "(5, array([0., 0., 0., 0., 0., 1., 0., 0., 0., 0.], dtype=float32))"
      ]
     },
     "execution_count": 10,
     "metadata": {},
     "output_type": "execute_result"
    }
   ],
   "source": [
    "y_train[0], Y_train[0]"
   ]
  },
  {
   "cell_type": "code",
   "execution_count": 11,
   "metadata": {},
   "outputs": [],
   "source": [
    "# 5. Dinh nghia model\n",
    "model = Sequential()\n",
    "\n",
    "activation = 'relu'\n",
    "\n",
    "# them Convolutional layer voi 32 kernel, kich thuoc kernel 3*3\n",
    "# dung ham sigmoid lam activation va chi ro input_shape cho layer dau tien\n",
    "model.add(Conv2D(32, (3,3), activation=activation, input_shape=(28,28,1)))\n",
    "\n",
    "# them convolution layer\n",
    "model.add(Conv2D(32, (3,3), activation=activation))\n",
    "\n",
    "# them max pooling layer\n",
    "model.add(MaxPooling2D(pool_size=(2,2)))\n",
    "\n",
    "# Flatten layer chuyen tu tensor sang vector\n",
    "model.add(Flatten())\n",
    "\n",
    "# them fully connected layer voi 128 nodes va dung sigmoid\n",
    "model.add(Dense(128, activation=activation))\n",
    "\n",
    "# output layer voi 10 node va dung softmax function de chuyen sang xac suat\n",
    "model.add(Dense(10, activation='softmax'))"
   ]
  },
  {
   "cell_type": "code",
   "execution_count": 12,
   "metadata": {},
   "outputs": [],
   "source": [
    "# 6. Compile model, chi ro ham loss_function duoc su dung, phuong thuc dung de toi uu ham loss function\n",
    "model.compile(loss='categorical_crossentropy',\n",
    "             optimizer='adam',\n",
    "             metrics=['mse','acc'])"
   ]
  },
  {
   "cell_type": "code",
   "execution_count": 13,
   "metadata": {},
   "outputs": [
    {
     "name": "stdout",
     "output_type": "stream",
     "text": [
      "Train on 50000 samples, validate on 10000 samples\n",
      "Epoch 1/10\n",
      "50000/50000 [==============================] - 31s 619us/step - loss: 0.2133 - mse: 0.0070 - acc: 0.9541 - val_loss: 0.0598 - val_mse: 0.0026 - val_acc: 0.9833\n",
      "Epoch 2/10\n",
      "50000/50000 [==============================] - 31s 615us/step - loss: 0.0499 - mse: 0.0024 - acc: 0.9846 - val_loss: 0.0625 - val_mse: 0.0026 - val_acc: 0.9839\n",
      "Epoch 3/10\n",
      "50000/50000 [==============================] - 31s 616us/step - loss: 0.0397 - mse: 0.0020 - acc: 0.9868 - val_loss: 0.0766 - val_mse: 0.0031 - val_acc: 0.9798\n",
      "Epoch 4/10\n",
      "50000/50000 [==============================] - 31s 615us/step - loss: 0.0276 - mse: 0.0013 - acc: 0.9916 - val_loss: 0.0635 - val_mse: 0.0026 - val_acc: 0.9833\n",
      "Epoch 5/10\n",
      "50000/50000 [==============================] - 31s 616us/step - loss: 0.0263 - mse: 0.0013 - acc: 0.9920 - val_loss: 0.0788 - val_mse: 0.0029 - val_acc: 0.9826\n",
      "Epoch 6/10\n",
      "50000/50000 [==============================] - 31s 616us/step - loss: 0.0201 - mse: 9.9368e-04 - acc: 0.9937 - val_loss: 0.0900 - val_mse: 0.0027 - val_acc: 0.9832\n",
      "Epoch 7/10\n",
      "50000/50000 [==============================] - 31s 616us/step - loss: 0.0220 - mse: 0.0010 - acc: 0.9937 - val_loss: 0.0948 - val_mse: 0.0027 - val_acc: 0.9841\n",
      "Epoch 8/10\n",
      "50000/50000 [==============================] - 31s 616us/step - loss: 0.0172 - mse: 7.7664e-04 - acc: 0.9950 - val_loss: 0.1081 - val_mse: 0.0030 - val_acc: 0.9824\n",
      "Epoch 9/10\n",
      "50000/50000 [==============================] - 31s 616us/step - loss: 0.0166 - mse: 7.2186e-04 - acc: 0.9954 - val_loss: 0.0957 - val_mse: 0.0027 - val_acc: 0.9844\n",
      "Epoch 10/10\n",
      "50000/50000 [==============================] - 31s 617us/step - loss: 0.0172 - mse: 7.3509e-04 - acc: 0.9955 - val_loss: 0.1039 - val_mse: 0.0031 - val_acc: 0.9817\n"
     ]
    }
   ],
   "source": [
    "# 7. Thuc hien training mpdel voi data\n",
    "H = model.fit(X_train, Y_train, validation_data=(X_val, Y_val),\n",
    "             batch_size=32, epochs=10, verbose=True)"
   ]
  },
  {
   "cell_type": "code",
   "execution_count": 15,
   "metadata": {},
   "outputs": [
    {
     "data": {
      "text/plain": [
       "<matplotlib.legend.Legend at 0x7ff8983bc780>"
      ]
     },
     "execution_count": 15,
     "metadata": {},
     "output_type": "execute_result"
    },
    {
     "data": {
      "image/png": "[encoded data removed]",
      "text/plain": [
       "<Figure size 432x288 with 1 Axes>"
      ]
     },
     "metadata": {
      "needs_background": "light"
     },
     "output_type": "display_data"
    }
   ],
   "source": [
    "# 8. Ve do thi loss, accuracy cua training set va validation set\n",
    "fig = plt.figure()\n",
    "num_of_epoch = 10\n",
    "plt.plot(np.arange(0, num_of_epoch), H.history['loss'], label='training loss')\n",
    "plt.plot(np.arange(0, num_of_epoch), H.history['val_loss'], label='validation loss')\n",
    "plt.plot(np.arange(0, num_of_epoch), H.history['acc'], label='accuracy')\n",
    "plt.plot(np.arange(0, num_of_epoch), H.history['val_acc'], label='validation accuracy')\n",
    "plt.title('Accuracy and Loss')\n",
    "plt.xlabel('Epoch')\n",
    "plt.ylabel('Loss|Accuracy')\n",
    "plt.legend()"
   ]
  },
  {
   "cell_type": "code",
   "execution_count": 16,
   "metadata": {},
   "outputs": [],
   "source": [
    "# 9. Danh gia model voi du lieu test set\n",
    "score = model.evaluate(X_test, Y_test, verbose=0)"
   ]
  },
  {
   "cell_type": "code",
   "execution_count": 17,
   "metadata": {},
   "outputs": [
    {
     "data": {
      "text/plain": [
       "[0.09163609223624934, 0.002730071544647217, 0.9832000136375427]"
      ]
     },
     "execution_count": 17,
     "metadata": {},
     "output_type": "execute_result"
    }
   ],
   "source": [
    "score"
   ]
  },
  {
   "cell_type": "code",
   "execution_count": 18,
   "metadata": {},
   "outputs": [
    {
     "data": {
      "text/plain": [
       "<matplotlib.image.AxesImage at 0x7ff8982e02e8>"
      ]
     },
     "execution_count": 18,
     "metadata": {},
     "output_type": "execute_result"
    },
    {
     "data": {
      "image/png": "[encoded data removed]",
      "text/plain": [
       "<Figure size 432x288 with 1 Axes>"
      ]
     },
     "metadata": {
      "needs_background": "light"
     },
     "output_type": "display_data"
    }
   ],
   "source": [
    "# 10. Du doan anh\n",
    "plt.imshow(X_test[0].reshape(28,28), cmap='gray')"
   ]
  },
  {
   "cell_type": "code",
   "execution_count": 19,
   "metadata": {},
   "outputs": [],
   "source": [
    "y_predict = model.predict(X_test[0].reshape(1,28,28,1))"
   ]
  },
  {
   "cell_type": "code",
   "execution_count": 20,
   "metadata": {},
   "outputs": [
    {
     "data": {
      "text/plain": [
       "array([[6.13401726e-16, 1.69699706e-11, 6.16759768e-11, 1.04189235e-11,\n",
       "        1.94466092e-17, 7.94242330e-14, 4.05794619e-22, 1.00000000e+00,\n",
       "        2.62404730e-15, 6.27027857e-12]], dtype=float32)"
      ]
     },
     "execution_count": 20,
     "metadata": {},
     "output_type": "execute_result"
    }
   ],
   "source": [
    "y_predict"
   ]
  },
  {
   "cell_type": "code",
   "execution_count": 21,
   "metadata": {},
   "outputs": [
    {
     "name": "stdout",
     "output_type": "stream",
     "text": [
      "Gia tri du doan:  7\n"
     ]
    }
   ],
   "source": [
    "print(\"Gia tri du doan: \", np.argmax(y_predict))"
   ]
  },
  {
   "cell_type": "code",
   "execution_count": null,
   "metadata": {},
   "outputs": [],
   "source": []
  }
 ],
 "metadata": {
  "kernelspec": {
   "display_name": "Python 3",
   "language": "python",
   "name": "python3"
  },
  "language_info": {
   "codemirror_mode": {
    "name": "ipython",
    "version": 3
   },
   "file_extension": ".py",
   "mimetype": "text/x-python",
   "name": "python",
   "nbconvert_exporter": "python",
   "pygments_lexer": "ipython3",
   "version": "3.7.3"
  }
 },
 "nbformat": 4,
 "nbformat_minor": 2
}
