{
 "cells": [
  {
   "cell_type": "markdown",
   "metadata": {},
   "source": [
    "# Dog Autoencoder\n",
    "\n",
    "http://vision.stanford.edu/aditya86/ImageNetDogs/\n",
    "\n",
    "https://www.kaggle.com/jesucristo/gan-introduction/notebook\n",
    "\n",
    "https://www.kaggle.com/cdeotte/dog-autoencoder/notebook"
   ]
  },
  {
   "cell_type": "markdown",
   "metadata": {},
   "source": [
    "https://github.com/fuzimaoxinan/Tensorflow-Deep-Neural-Networks"
   ]
  },
  {
   "cell_type": "markdown",
   "metadata": {},
   "source": [
    "# PRNG - GAN\n",
    "\n",
    "## LEARNING TO PROTECT COMMUNICATIONS WITH ADVERSARIAL NEURAL CRYPTOGRAPHY\n",
    "\n",
    "https://github.com/ankeshanand/neural-cryptography-tensorflow\n",
    "\n",
    "https://github.com/VamshikShetty/adversarial-neural-cryptography-tensorflow\n",
    "\n",
    "https://github.com/vishal3011/Adversarial-Neural-Cryptography\n",
    "\n",
    "https://github.com/skloisMary/Adversarial-Neural-Cryptography\n",
    "\n",
    "https://github.com/seungwonpark/LearningToProtect\n",
    "\n",
    "## PRNG - GAN\n",
    "\n",
    "https://github.com/marcellodebernardi/adversarial-csprng\n",
    "\n",
    "https://github.com/ysaibhargav/prng-gan\n",
    "\n"
   ]
  },
  {
   "cell_type": "code",
   "execution_count": null,
   "metadata": {},
   "outputs": [],
   "source": []
  }
 ],
 "metadata": {
  "kernelspec": {
   "display_name": "Python 3",
   "language": "python",
   "name": "python3"
  },
  "language_info": {
   "codemirror_mode": {
    "name": "ipython",
    "version": 3
   },
   "file_extension": ".py",
   "mimetype": "text/x-python",
   "name": "python",
   "nbconvert_exporter": "python",
   "pygments_lexer": "ipython3",
   "version": "3.7.3"
  }
 },
 "nbformat": 4,
 "nbformat_minor": 2
}
